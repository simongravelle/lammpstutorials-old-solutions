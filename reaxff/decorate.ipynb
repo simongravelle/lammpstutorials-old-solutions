{
 "cells": [
  {
   "cell_type": "code",
   "execution_count": 1,
   "id": "0f9cb327",
   "metadata": {},
   "outputs": [],
   "source": [
    "import heapq\n",
    "import numpy as np\n",
    "from tqdm import tqdm\n",
    "import MDAnalysis as mda\n",
    "from numpy.linalg import norm\n",
    "from scipy.spatial.transform import Rotation as R"
   ]
  },
  {
   "cell_type": "code",
   "execution_count": 2,
   "metadata": {},
   "outputs": [],
   "source": [
    "type_to_name = {\n",
    "  \"1\": \"Si\",\n",
    "  \"2\": \"O\",\n",
    "  \"3\": \"H\"\n",
    "}\n",
    "def generate_names(system):\n",
    "    names = []\n",
    "    for type in system.types:\n",
    "        name = type_to_name[type]\n",
    "        names.append(name)\n",
    "    return np.array(names)"
   ]
  },
  {
   "cell_type": "code",
   "execution_count": 3,
   "id": "8cdba5bc",
   "metadata": {},
   "outputs": [],
   "source": [
    "type_to_charge = {\n",
    "  \"1\": 1.87,\n",
    "  \"2\": -0.93,\n",
    "  \"3\": 0.1\n",
    "}\n",
    "def generate_charges(system, rescale_charges=True, verbose=True):\n",
    "    charges = []\n",
    "    for type in system.types:\n",
    "        charge = type_to_charge[type]\n",
    "        charges.append(charge)\n",
    "    charges = np.array(charges)\n",
    "    if rescale_charges:\n",
    "        Qp = np.sum(charges[charges>0])\n",
    "        Qm = np.sum(charges[charges<0])\n",
    "        effect_rescaling = []\n",
    "        for rescaling in np.linspace(-1,1,100000):\n",
    "            Qpr = Qp*rescaling\n",
    "            Qmr = Qm*(1-rescaling)\n",
    "            net_charge = Qpr+Qmr\n",
    "            effect_rescaling.append([rescaling, net_charge, Qpr, Qmr])\n",
    "        effect_rescaling = np.array(effect_rescaling)\n",
    "        required_rescaling = effect_rescaling[effect_rescaling.T[1] == closest(effect_rescaling.T[1], 0)][0][0]\n",
    "        charges[charges<0] *= (1-required_rescaling)\n",
    "        charges[charges>0] *= required_rescaling\n",
    "    if verbose:\n",
    "        if np.abs(np.sum(charges))>0.1:\n",
    "            print(\"Warning, the charge is\", np.sum(charges))\n",
    "    return charges"
   ]
  },
  {
   "cell_type": "code",
   "execution_count": 4,
   "id": "62231989",
   "metadata": {},
   "outputs": [],
   "source": [
    "def change_atom_type(u, atom_name, atom_id, atom_type):\n",
    "    if u.atoms.names[u.atoms.indices == atom_id] == atom_name:\n",
    "        types = u.atoms.types\n",
    "        types[u.atoms.indices == atom_id] = atom_type\n",
    "        v = mda.Universe.empty(len(u.atoms.positions), trajectory=True) # necessary for adding coordinates\n",
    "        v.atoms.positions = u.atoms.positions\n",
    "        v.add_TopologyAttr('names', generate_names(u.select_atoms(\"all\")))\n",
    "        v.add_TopologyAttr('charges', generate_charges(u.select_atoms(\"all\"),verbose=False))\n",
    "        v.add_TopologyAttr('type', types)\n",
    "        v.dimensions = u.dimensions\n",
    "        return v\n",
    "    else:\n",
    "        return u"
   ]
  },
  {
   "cell_type": "code",
   "execution_count": 5,
   "id": "22f7e07b",
   "metadata": {},
   "outputs": [],
   "source": [
    "def Hgroup():\n",
    "    Hcoor = np.array([[0.000, 0.000, 0.000], # graft center\n",
    "                        [ 0.000, 1.12, 0.000]]) # H\n",
    "    XH = mda.Universe.empty(len(Hcoor), trajectory=True)\n",
    "    XH.atoms.positions = Hcoor\n",
    "    XH.add_TopologyAttr('name', [\"X\",\"H\"])\n",
    "    XH.add_TopologyAttr('type', [\"X\",\"3\"])\n",
    "    return XH"
   ]
  },
  {
   "cell_type": "code",
   "execution_count": 6,
   "id": "a8967c36",
   "metadata": {},
   "outputs": [],
   "source": [
    "def defect_report(system, g_subject=\"name Si\", g_neighbor=\"name O\",  expected_neighbor = 4, cutoff_distance = 2.5):\n",
    "    '''Detect missing or extra neighbor'''\n",
    "    # detect the Si with anomalous neighbor number\n",
    "    actual_box=system.dimensions[:3]\n",
    "    group_i = system.select_atoms(g_subject)\n",
    "    group_j = system.select_atoms(g_neighbor)\n",
    "    id_neigbor = []\n",
    "    for i_indice, i_position, i_charge in zip(group_i.indices, group_i.positions, group_i.charges):\n",
    "        # for each atom of group i, look at the distances with group j\n",
    "        distances = norm(np.remainder(group_j.atoms.positions - i_position + actual_box/2., actual_box) - actual_box/2.,axis=1)\n",
    "        number_neighbor = np.sum(distances<cutoff_distance)\n",
    "        id_neigbor.append([i_indice, number_neighbor, i_charge])\n",
    "    return np.array(id_neigbor)"
   ]
  },
  {
   "cell_type": "code",
   "execution_count": 7,
   "id": "eeaf3d79",
   "metadata": {},
   "outputs": [],
   "source": [
    "def generate_random_orientation(XYZ_initial):\n",
    "    \"\"\"\n",
    "    Generate 3D aleatory rotation for molecule coordinate\n",
    "    \"\"\"\n",
    "    rotation_radians = np.radians(np.random.rand()*180)\n",
    "    rotation_axis = np.array([np.random.rand()*2-1, \n",
    "                              np.random.rand()*2-1, \n",
    "                              np.random.rand()*2-1])\n",
    "    rotation_axis /= np.linalg.norm(rotation_axis)\n",
    "    rotation_vector = rotation_radians * rotation_axis\n",
    "    rotation = R.from_rotvec(rotation_vector)\n",
    "    XYZ_rotated = rotation.apply(XYZ_initial)\n",
    "    return XYZ_rotated"
   ]
  },
  {
   "cell_type": "code",
   "execution_count": 8,
   "id": "cd96a26e",
   "metadata": {},
   "outputs": [],
   "source": [
    "def closest(lst, K):\n",
    "    #using heapq.nsmallest() to find the element in the list with the smallest absolute difference with K\n",
    "    return heapq.nsmallest(1, lst, key=lambda x: abs(x-K))[0]"
   ]
  },
  {
   "cell_type": "code",
   "execution_count": 9,
   "id": "96db979b",
   "metadata": {},
   "outputs": [],
   "source": [
    "def insert_group(u, center_position, center_id, group, max_attempt=50, cut_off_energy = 0.01, verbose=True, replace=False):\n",
    "    # find a proper orientation\n",
    "    box = u.dimensions[:3]\n",
    "    min_energy = 10\n",
    "    nattempt = 0\n",
    "    while (nattempt < max_attempt) & (min_energy>cut_off_energy):\n",
    "        group_coor = generate_random_orientation(group.atoms.positions)\n",
    "        insertion_energy = 0 # no units\n",
    "        for group_coor_i in group_coor[1:]+center_position:\n",
    "            all_d = np.remainder(u.atoms.positions[u.atoms.indices != center_id] - group_coor_i + box/2., box) - box/2.\n",
    "            all_n = norm(all_d, axis= 1)\n",
    "            insertion_energy += np.sum((1.2/all_n)**12)\n",
    "        group_position = group_coor+center_position\n",
    "        min_energy = np.min([min_energy, insertion_energy])\n",
    "        nattempt += 1\n",
    "    if min_energy < cut_off_energy:\n",
    "        if verbose:\n",
    "            print(\"successfull insert, energy\",min_energy)\n",
    "        # add the groupo to the MDA universe\n",
    "        xgroup = group\n",
    "        xgroup.atoms.positions = group_position\n",
    "        v = mda.Merge(u.atoms, xgroup.atoms[1:])\n",
    "        v.dimensions = u.dimensions\n",
    "        return v\n",
    "    else: # dont place any group\n",
    "        if verbose:\n",
    "            print(\"failled insert\")\n",
    "        return u"
   ]
  },
  {
   "attachments": {},
   "cell_type": "markdown",
   "id": "cb9cbeb6",
   "metadata": {},
   "source": [
    "#### Import the amorphous silica and add hydrogen to dandling oxygen"
   ]
  },
  {
   "cell_type": "code",
   "execution_count": 10,
   "id": "78411b38",
   "metadata": {},
   "outputs": [
    {
     "name": "stderr",
     "output_type": "stream",
     "text": [
      "100%|██████████| 32/32 [00:00<00:00, 519.60it/s]\n"
     ]
    }
   ],
   "source": [
    "u = mda.Universe(\"silica-deformed.data\")\n",
    "u.add_TopologyAttr('names')\n",
    "u.add_TopologyAttr('resname', ['Sil']*u.residues.n_residues)\n",
    "u.add_TopologyAttr('resid', np.arange(u.residues.n_residues).tolist())\n",
    "u.atoms.names = generate_names(u.select_atoms(\"all\"))\n",
    "O_neighbor = defect_report(u, g_subject=\"name O\", g_neighbor=\"name Si C\",  expected_neighbor = 2, cutoff_distance = 2.5)\n",
    "for center_id in tqdm(O_neighbor[O_neighbor.T[1] == 1].T[0]):\n",
    "    center_position = u.select_atoms(\"name O\").positions[u.select_atoms(\"name O\").indices == center_id]\n",
    "    u = insert_group(u, center_position, center_id, group=Hgroup(), cut_off_energy=0.01, verbose=False)\n",
    "u.add_TopologyAttr('resname', ['Sil']*len(u.residues))\n",
    "u.add_TopologyAttr('resid', np.arange(u.residues.n_residues).tolist())\n",
    "u.atoms.names = generate_names(u.select_atoms(\"all\"))\n",
    "u.add_TopologyAttr('charge', generate_charges(u.select_atoms(\"all\"), rescale_charges=True))"
   ]
  },
  {
   "attachments": {},
   "cell_type": "markdown",
   "id": "e5e5a5a6",
   "metadata": {},
   "source": [
    "#### Write decorated data file"
   ]
  },
  {
   "cell_type": "code",
   "execution_count": 11,
   "id": "798c1b54",
   "metadata": {},
   "outputs": [],
   "source": [
    "filename = \"decorated.data\"\n",
    "f = open(filename, \"w\")\n",
    "s = \" \"\n",
    "n = \"\\n\"\n",
    "f.write(\"# LAMMPS data file\"+n+n)\n",
    "f.write(str(u.atoms.n_atoms)+s+\"atoms\"+n)\n",
    "f.write(\"3 atom types\"+n)\n",
    "f.write(n)\n",
    "f.write(str(-u.dimensions[0]/2)+s+str(u.dimensions[0]/2)+s+\"xlo xhi\"+n)\n",
    "f.write(str(-u.dimensions[1]/2)+s+str(u.dimensions[1]/2)+s+\"ylo yhi\"+n)\n",
    "f.write(str(-u.dimensions[2]/2)+s+str(u.dimensions[2]/2)+s+\"zlo zhi\"+n)\n",
    "f.write(n)\n",
    "f.write(\"Atoms\"+n)\n",
    "f.write(n)\n",
    "for id, tp, cp, pos in zip(u.atoms.indices, u.atoms.types, u.atoms.charges, u.atoms.positions):\n",
    "    f.write(str(id+1)+s+\"1\"+s+tp+s+str(cp)+s+str(pos[0])+s+str(pos[1])+s+str(pos[2])+n)\n",
    "f.close()"
   ]
  }
 ],
 "metadata": {
  "kernelspec": {
   "display_name": "Python 3 (ipykernel)",
   "language": "python",
   "name": "python3"
  },
  "language_info": {
   "codemirror_mode": {
    "name": "ipython",
    "version": 3
   },
   "file_extension": ".py",
   "mimetype": "text/x-python",
   "name": "python",
   "nbconvert_exporter": "python",
   "pygments_lexer": "ipython3",
   "version": "3.10.7"
  },
  "vscode": {
   "interpreter": {
    "hash": "916dbcbb3f70747c44a77c7bcd40155683ae19c65e1c03b4aa3499c5328201f1"
   }
  }
 },
 "nbformat": 4,
 "nbformat_minor": 5
}

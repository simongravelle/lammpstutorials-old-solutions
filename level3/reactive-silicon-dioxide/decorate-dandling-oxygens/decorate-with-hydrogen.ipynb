{
 "cells": [
  {
   "cell_type": "code",
   "execution_count": null,
   "id": "0f9cb327",
   "metadata": {},
   "outputs": [],
   "source": [
    "import numpy as np\n",
    "from tqdm import tqdm\n",
    "import MDAnalysis as mda\n",
    "#from scipy.spatial.transform import Rotation as R"
   ]
  },
  {
   "cell_type": "code",
   "execution_count": null,
   "id": "315d4c10",
   "metadata": {},
   "outputs": [],
   "source": [
    "from utilities import generate_names, defect_report, insert_group, Hgroup, generate_charges"
   ]
  },
  {
   "attachments": {},
   "cell_type": "markdown",
   "id": "cb9cbeb6",
   "metadata": {},
   "source": [
    "#### Import the amorphous silica and add hydrogen to dandling oxygen"
   ]
  },
  {
   "cell_type": "code",
   "execution_count": null,
   "id": "78411b38",
   "metadata": {},
   "outputs": [],
   "source": [
    "u = mda.Universe(\"silica-deformed.data\")\n",
    "# the next lines are used to complete the universe with atom names, residue names, and redidue id\n",
    "u.add_TopologyAttr('names')\n",
    "u.add_TopologyAttr('resname', ['Sil']*u.residues.n_residues)\n",
    "u.add_TopologyAttr('resid', np.arange(u.residues.n_residues).tolist())\n",
    "u.atoms.names = generate_names(u.select_atoms(\"all\"))\n",
    "# detect dandling atoms\n",
    "O_neighbor = defect_report(u, g_subject=\"name O\", g_neighbor=\"name Si C\",  expected_neighbor = 2, cutoff_distance = 2.5)\n",
    "# loop on the dandling oxygen and insert hydrogen\n",
    "for center_id in tqdm(O_neighbor[O_neighbor.T[1] == 1].T[0]):\n",
    "    center_position = u.select_atoms(\"name O\").positions[u.select_atoms(\"name O\").indices == center_id]\n",
    "    u = insert_group(u, center_position, center_id, group=Hgroup(), cut_off_energy=0.01, verbose=False)\n",
    "# correct the charge, name and residue information\n",
    "u.add_TopologyAttr('resname', ['Sil']*len(u.residues))\n",
    "u.add_TopologyAttr('resid', np.arange(u.residues.n_residues).tolist())\n",
    "u.atoms.names = generate_names(u.select_atoms(\"all\"))\n",
    "u.add_TopologyAttr('charge', generate_charges(u.select_atoms(\"all\"), rescale_charges=True))"
   ]
  },
  {
   "attachments": {},
   "cell_type": "markdown",
   "id": "e5e5a5a6",
   "metadata": {},
   "source": [
    "#### Write decorated data file"
   ]
  },
  {
   "cell_type": "code",
   "execution_count": null,
   "id": "798c1b54",
   "metadata": {},
   "outputs": [],
   "source": [
    "filename = \"decorated.data\"\n",
    "f = open(filename, \"w\")\n",
    "s = \" \"\n",
    "n = \"\\n\"\n",
    "f.write(\"# LAMMPS data file\"+n+n)\n",
    "f.write(str(u.atoms.n_atoms)+s+\"atoms\"+n)\n",
    "f.write(\"3 atom types\"+n)\n",
    "f.write(n)\n",
    "f.write(str(-u.dimensions[0]/2)+s+str(u.dimensions[0]/2)+s+\"xlo xhi\"+n)\n",
    "f.write(str(-u.dimensions[1]/2)+s+str(u.dimensions[1]/2)+s+\"ylo yhi\"+n)\n",
    "f.write(str(-u.dimensions[2]/2)+s+str(u.dimensions[2]/2)+s+\"zlo zhi\"+n)\n",
    "f.write(n)\n",
    "f.write(\"Atoms\"+n)\n",
    "f.write(n)\n",
    "for id, tp, cp, pos in zip(u.atoms.indices, u.atoms.types, u.atoms.charges, u.atoms.positions):\n",
    "    f.write(str(id+1)+s+\"1\"+s+tp+s+str(cp)+s+str(pos[0])+s+str(pos[1])+s+str(pos[2])+n)\n",
    "f.close()"
   ]
  }
 ],
 "metadata": {
  "kernelspec": {
   "display_name": "Python 3 (ipykernel)",
   "language": "python",
   "name": "python3"
  },
  "language_info": {
   "codemirror_mode": {
    "name": "ipython",
    "version": 3
   },
   "file_extension": ".py",
   "mimetype": "text/x-python",
   "name": "python",
   "nbconvert_exporter": "python",
   "pygments_lexer": "ipython3",
   "version": "3.10.6"
  },
  "vscode": {
   "interpreter": {
    "hash": "916dbcbb3f70747c44a77c7bcd40155683ae19c65e1c03b4aa3499c5328201f1"
   }
  }
 },
 "nbformat": 4,
 "nbformat_minor": 5
}

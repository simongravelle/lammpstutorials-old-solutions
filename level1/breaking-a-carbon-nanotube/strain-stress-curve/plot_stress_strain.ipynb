{
 "cells": [
  {
   "cell_type": "code",
   "execution_count": null,
   "id": "9e485e34",
   "metadata": {},
   "outputs": [],
   "source": [
    "import copy\n",
    "import numpy as np\n",
    "from matplotlib import pyplot as plt\n",
    "from matplotlib.ticker import AutoMinorLocator\n",
    "from mpl_toolkits.axes_grid1 import make_axes_locatable"
   ]
  },
  {
   "cell_type": "code",
   "execution_count": null,
   "id": "64adad12",
   "metadata": {},
   "outputs": [],
   "source": [
    "plt.rcParams.update({\n",
    "    \"text.usetex\": True,\n",
    "    \"font.family\": \"serif\",\n",
    "    \"font.serif\": [\"Palatino\"],\n",
    "})"
   ]
  },
  {
   "cell_type": "code",
   "execution_count": null,
   "id": "53db3e32",
   "metadata": {},
   "outputs": [],
   "source": [
    "fontsize = 15\n",
    "font = {'family': 'sans', 'color':  'black', 'weight': 'normal', 'size': fontsize}\n",
    "myblue = [0/ 255, 150/255, 177/ 255]\n",
    "lightgray = [0.1, 0.1, 0.1]\n",
    "darkgray = [0.9, 0.9, 0.9]"
   ]
  },
  {
   "cell_type": "code",
   "execution_count": null,
   "id": "6c47b29a",
   "metadata": {},
   "outputs": [],
   "source": [
    "kcal_to_joule = 4184\n",
    "Na = 6.022e23\n",
    "Atom = 1e-10"
   ]
  },
  {
   "attachments": {},
   "cell_type": "markdown",
   "id": "bdce6d00",
   "metadata": {},
   "source": [
    "#### Calculate the stress in Pa"
   ]
  },
  {
   "cell_type": "code",
   "execution_count": null,
   "id": "4891af6d",
   "metadata": {},
   "outputs": [],
   "source": [
    "force = np.loadtxt('edge_force.dat')\n",
    "time, f_edge1, f_edge2 = force.T\n",
    "f_total_kcal = f_edge2 - f_edge1 # kcal/mol/A\n",
    "f_total_newton = f_total_kcal*kcal_to_joule/Na/Atom\n",
    "rad = 5.2e-10 # radius of the nanotube\n",
    "dC = 3.4e-10 # effective diameter of the carbon atom\n",
    "A = 1*np.pi*rad*dC # surface area in m2\n",
    "s_total = f_total_newton/A  # stress in Pascal"
   ]
  },
  {
   "attachments": {},
   "cell_type": "markdown",
   "id": "930aba2b",
   "metadata": {},
   "source": [
    "#### Calculate the strain in %"
   ]
  },
  {
   "cell_type": "code",
   "execution_count": null,
   "id": "d2d9247b",
   "metadata": {},
   "outputs": [],
   "source": [
    "length = np.loadtxt('cnt_length.dat')\n",
    "_, l_sheet = length.T\n",
    "l_init = l_sheet[0] # Angstrom\n",
    "strain = 100*(l_sheet-l_init)/l_init # %"
   ]
  },
  {
   "cell_type": "code",
   "execution_count": null,
   "id": "311a63bd",
   "metadata": {},
   "outputs": [],
   "source": [
    "for mode, mygray in zip(['light'], [lightgray]):\n",
    "\n",
    "    fig = plt.figure(figsize=(24, 4))\n",
    "    ax1 = fig.add_subplot(131)\n",
    "    plt.plot(strain, s_total/1e9, '-', color=myblue)\n",
    "    divider = make_axes_locatable(ax1)\n",
    "    ax1.set_xlabel(r\"strain ($\\%$)\", fontdict=font)\n",
    "    ax1.set_ylabel(r\"stress (GPa)\", fontdict=font)\n",
    "\n",
    "    plt.xticks(fontsize=fontsize)\n",
    "    plt.yticks(fontsize=fontsize)\n",
    "    #plt.ylim(5, 65)\n",
    "    ax1.minorticks_on()\n",
    "    ax1.tick_params('both', length=10, width=2, which='major', direction='in')\n",
    "    ax1.tick_params('both', length=6, width=1.4, which='minor', direction='in')\n",
    "    ax1.xaxis.set_ticks_position('both')\n",
    "    ax1.yaxis.set_ticks_position('both')\n",
    "    ax1.spines[\"top\"].set_linewidth(2)\n",
    "    ax1.spines[\"bottom\"].set_linewidth(2)\n",
    "    ax1.spines[\"left\"].set_linewidth(2)\n",
    "    ax1.spines[\"right\"].set_linewidth(2)\n",
    "    #ax1.set_xticks([-1.5, -1, -0.5, 0, 0.5, 1, 1.5, 2, 2.5])\n",
    "    #ax1.set_yticks([0, 0.01, 0.02, 0.03])\n",
    "    minor_locator_y = AutoMinorLocator(2)\n",
    "    ax1.yaxis.set_minor_locator(minor_locator_y)\n",
    "    minor_locator_x = AutoMinorLocator(2)\n",
    "    ax1.xaxis.set_minor_locator(minor_locator_x)\n",
    "    ax1.xaxis.label.set_color(mygray)\n",
    "    ax1.yaxis.label.set_color(mygray)\n",
    "    ax1.tick_params(axis='x', colors=mygray)\n",
    "    ax1.tick_params(axis='y', colors=mygray)\n",
    "    ax1.spines['left'].set_color(mygray)\n",
    "    ax1.spines['top'].set_color(mygray)\n",
    "    ax1.spines['bottom'].set_color(mygray)\n",
    "    ax1.spines['right'].set_color(mygray)\n",
    "    ax1.tick_params(axis='y', which='both', colors=mygray)\n",
    "    ax1.tick_params(axis='x', which='both', colors=mygray)\n",
    "\n",
    "    fig.tight_layout()\n",
    "    plt.savefig('strain-stain-curve.png', bbox_inches = 'tight', pad_inches = 0.057, transparent=True)\n",
    "    plt.show()"
   ]
  }
 ],
 "metadata": {
  "kernelspec": {
   "display_name": "Python 3.10.6 64-bit",
   "language": "python",
   "name": "python3"
  },
  "language_info": {
   "codemirror_mode": {
    "name": "ipython",
    "version": 3
   },
   "file_extension": ".py",
   "mimetype": "text/x-python",
   "name": "python",
   "nbconvert_exporter": "python",
   "pygments_lexer": "ipython3",
   "version": "3.10.7"
  },
  "vscode": {
   "interpreter": {
    "hash": "916dbcbb3f70747c44a77c7bcd40155683ae19c65e1c03b4aa3499c5328201f1"
   }
  }
 },
 "nbformat": 4,
 "nbformat_minor": 5
}

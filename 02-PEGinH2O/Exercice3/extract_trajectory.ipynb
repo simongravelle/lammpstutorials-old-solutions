{
 "cells": [
  {
   "cell_type": "code",
   "execution_count": null,
   "id": "de9b8616",
   "metadata": {},
   "outputs": [],
   "source": [
    "from matplotlib import pyplot as plt\n",
    "import MDAnalysis as mda\n",
    "import numpy as np"
   ]
  },
  {
   "cell_type": "markdown",
   "id": "7e4da529",
   "metadata": {},
   "source": [
    "#### 1) Universe creation\n",
    "\n",
    "Use MD Analysis to import the dump file created with LAMMPS (here,\n",
    "\"dump.lammpstrj is assumed to be in the same folder as the notebook):"
   ]
  },
  {
   "cell_type": "code",
   "execution_count": null,
   "id": "5a888565",
   "metadata": {},
   "outputs": [],
   "source": [
    "u = mda.Universe(\"dump.lammpstrj\", format = \"LAMMPSDUMP\")"
   ]
  },
  {
   "cell_type": "markdown",
   "id": "62e79b1b",
   "metadata": {},
   "source": [
    "Alternatively, it you used xtc force, import the trajectory as follow:\n",
    "\n",
    "u = mda.Universe(\"dump.lammpstrj\", \"dump.xtc\")"
   ]
  },
  {
   "cell_type": "markdown",
   "id": "b924c977",
   "metadata": {},
   "source": [
    "#### 2) Group creation\n",
    "\n",
    "Recreate the same groups as we did in LAMMPS"
   ]
  },
  {
   "cell_type": "code",
   "execution_count": null,
   "id": "263246a2",
   "metadata": {},
   "outputs": [],
   "source": [
    "H2O = u.select_atoms(\"type 1 2\")\n",
    "PEG = u.select_atoms(\"type 3 4 5 6 7\")\n",
    "oxygen_end1 = u.select_atoms(\"id 65\")\n",
    "oxygen_end2 = u.select_atoms(\"id 4\")"
   ]
  },
  {
   "cell_type": "markdown",
   "id": "af1699c8",
   "metadata": {},
   "source": [
    "#### 3) End-to-end distance extraction"
   ]
  },
  {
   "cell_type": "code",
   "execution_count": null,
   "id": "db90ed0f",
   "metadata": {},
   "outputs": [],
   "source": [
    "end_to_end = []\n",
    "for ts in u.trajectory: # loop over the full trajectory\n",
    "    x1, y1, z1 = oxygen_end1.atoms.positions[0]\n",
    "    x2, y2, z2 = oxygen_end2.atoms.positions[0]\n",
    "    r = np.sqrt((x1-x2)**2+(y1-y2)**2+(z1-z2)**2)\n",
    "    end_to_end.append([ts.frame, r])\n",
    "end_to_end = np.array(end_to_end)"
   ]
  },
  {
   "cell_type": "markdown",
   "id": "51aee516",
   "metadata": {},
   "source": [
    "#### 4) Plot the data"
   ]
  },
  {
   "cell_type": "code",
   "execution_count": null,
   "id": "6ba60c4c",
   "metadata": {},
   "outputs": [],
   "source": [
    "fig = plt.figure(figsize=(13,6.5))\n",
    "ax1 = plt.subplot(1, 1, 1)\n",
    "plt.xlabel(r\"number of frames\")\n",
    "plt.ylabel(r\"end-to-end distance (nm)\")\n",
    "ax1.plot(end_to_end.T[0], end_to_end.T[1], linewidth=2)\n",
    "plt.show()\n"
   ]
  }
 ],
 "metadata": {
  "kernelspec": {
   "display_name": "Python 3.10.6 64-bit",
   "language": "python",
   "name": "python3"
  },
  "language_info": {
   "codemirror_mode": {
    "name": "ipython",
    "version": 3
   },
   "file_extension": ".py",
   "mimetype": "text/x-python",
   "name": "python",
   "nbconvert_exporter": "python",
   "pygments_lexer": "ipython3",
   "version": "3.10.6"
  },
  "vscode": {
   "interpreter": {
    "hash": "916dbcbb3f70747c44a77c7bcd40155683ae19c65e1c03b4aa3499c5328201f1"
   }
  }
 },
 "nbformat": 4,
 "nbformat_minor": 5
}
